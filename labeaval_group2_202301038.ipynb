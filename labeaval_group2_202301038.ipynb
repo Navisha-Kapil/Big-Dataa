{
  "nbformat": 4,
  "nbformat_minor": 0,
  "metadata": {
    "colab": {
      "provenance": [],
      "authorship_tag": "ABX9TyPGerw0c3tAxEMBMZ8iX+IX",
      "include_colab_link": true
    },
    "kernelspec": {
      "name": "python3",
      "display_name": "Python 3"
    },
    "language_info": {
      "name": "python"
    }
  },
  "cells": [
    {
      "cell_type": "markdown",
      "metadata": {
        "id": "view-in-github",
        "colab_type": "text"
      },
      "source": [
        "<a href=\"https://colab.research.google.com/github/Navisha-Kapil/Big-Dataa/blob/main/labeaval_group2_202301038.ipynb\" target=\"_parent\"><img src=\"https://colab.research.google.com/assets/colab-badge.svg\" alt=\"Open In Colab\"/></a>"
      ]
    },
    {
      "cell_type": "code",
      "execution_count": 15,
      "metadata": {
        "colab": {
          "base_uri": "https://localhost:8080/"
        },
        "id": "E3g2WnrIWQ7A",
        "outputId": "03c809b9-29fd-4c6c-f489-332ac835575f"
      },
      "outputs": [
        {
          "output_type": "stream",
          "name": "stdout",
          "text": [
            "[ 10  16  16  52  54  62 453]\n",
            "[0 3 4 1 5 2 6]\n",
            "[10 16 16 52]\n",
            "[ 16  16  52  54  62 453]\n"
          ]
        }
      ],
      "source": [
        "import numpy as np\n",
        "df = np.array([10,52,62,16,16,54,453])\n",
        "s = np.sort(df)\n",
        "print(s)\n",
        "\n",
        "indices = np.argsort(df)\n",
        "print(indices)\n",
        "\n",
        "k = 4\n",
        "\n",
        "print(s[:k])\n",
        "\n",
        "m = 6\n",
        "\n",
        "print(s[-m:])\n",
        "\n",
        "\n"
      ]
    },
    {
      "cell_type": "code",
      "source": [],
      "metadata": {
        "id": "xEPE3ovJYP9b"
      },
      "execution_count": 15,
      "outputs": []
    }
  ]
}